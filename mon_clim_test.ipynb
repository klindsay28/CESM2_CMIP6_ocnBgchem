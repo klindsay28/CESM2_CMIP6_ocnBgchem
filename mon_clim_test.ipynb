{
 "cells": [
  {
   "cell_type": "code",
   "execution_count": null,
   "metadata": {},
   "outputs": [],
   "source": [
    "from datetime import datetime, timezone\n",
    "import glob\n",
    "\n",
    "from climatology import compute_clim_mon\n",
    "from xr_wrap import open_mfdataset_wrap"
   ]
  },
  {
   "cell_type": "markdown",
   "metadata": {},
   "source": [
    "# Set options for climatology generation, determine list of input files"
   ]
  },
  {
   "cell_type": "code",
   "execution_count": null,
   "metadata": {},
   "outputs": [],
   "source": [
    "base_dir = '/glade/collections/cdg/data/CMIP6/CMIP'\n",
    "institute = 'NCAR'\n",
    "model = 'CESM2'\n",
    "experiment = 'historical'\n",
    "rip = 'r7i1p1f1'\n",
    "MIP_table = 'Omon'\n",
    "varname = 'fgco2'\n",
    "grid = 'gn'\n",
    "\n",
    "yr_lo = '1999'\n",
    "yr_hi = '2000'\n",
    "\n",
    "dir_in = '/'.join([base_dir, institute, model, experiment, rip, MIP_table, varname, grid, 'latest'])\n",
    "fname_pattern = '_'.join([varname, MIP_table, model, experiment, rip, grid, '*.nc'])\n",
    "fnames = glob.glob(dir_in+'/'+fname_pattern)\n",
    "fnames.sort()\n",
    "print(fnames)"
   ]
  },
  {
   "cell_type": "markdown",
   "metadata": {},
   "source": [
    "# Generate climatology from list of input files"
   ]
  },
  {
   "cell_type": "code",
   "execution_count": null,
   "metadata": {},
   "outputs": [],
   "source": [
    "time_name = 'time'\n",
    "\n",
    "# data_vars = 'minimal', to avoid introducing time dimension\n",
    "# to time-invariant fields when there are multiple files\n",
    "ds_in = open_mfdataset_wrap(fnames, chunks={time_name: 12}, data_vars='minimal', combine='by_coords')\n",
    "\n",
    "ds_clim = compute_clim_mon(ds_in, yr_lo, yr_hi)\n",
    "\n",
    "# change some global attributes that are not appropriate after postprocessing, document input files\n",
    "ds_clim.attrs['contact'] = 'klindsay@ucar.edu'\n",
    "ds_clim.attrs['creation_date'] = datetime.now(timezone.utc).strftime(\"%Y-%m-%d %H:%M:%S %Z\")\n",
    "ds_clim.attrs['input_file_list'] = ' '.join(fnames)"
   ]
  },
  {
   "cell_type": "markdown",
   "metadata": {},
   "source": [
    "# Write generated climatology to a file"
   ]
  },
  {
   "cell_type": "code",
   "execution_count": null,
   "metadata": {},
   "outputs": [],
   "source": [
    "dir_out = '/glade/scratch/klindsay/CESM2_CMIP6_ocnBgchem_tst'\n",
    "\n",
    "yr_fname_string = yr_lo + '-' + yr_hi\n",
    "\n",
    "fname_out = '_'.join([varname, MIP_table, model, experiment, rip, grid, yr_fname_string, 'mon_clim.nc'])\n",
    "print(fname_out)\n",
    "\n",
    "fname_out_full = '/'.join([dir_out, fname_out])\n",
    "ds_clim.to_netcdf(fname_out_full)"
   ]
  },
  {
   "cell_type": "markdown",
   "metadata": {},
   "source": [
    "# Correctness of climatology is checked with ferret script mon_clim_test_verify.jnl"
   ]
  },
  {
   "cell_type": "code",
   "execution_count": null,
   "metadata": {},
   "outputs": [],
   "source": []
  }
 ],
 "metadata": {
  "kernelspec": {
   "display_name": "Python [conda env:CESM2_CMIP6_ocnBgchem]",
   "language": "python",
   "name": "conda-env-CESM2_CMIP6_ocnBgchem-py"
  },
  "language_info": {
   "codemirror_mode": {
    "name": "ipython",
    "version": 3
   },
   "file_extension": ".py",
   "mimetype": "text/x-python",
   "name": "python",
   "nbconvert_exporter": "python",
   "pygments_lexer": "ipython3",
   "version": "3.7.3"
  }
 },
 "nbformat": 4,
 "nbformat_minor": 4
}
