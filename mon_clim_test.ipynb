{
 "cells": [
  {
   "cell_type": "code",
   "execution_count": 1,
   "metadata": {},
   "outputs": [],
   "source": [
    "from datetime import datetime, timezone\n",
    "import glob\n",
    "\n",
    "from climatology import compute_clim_mon\n",
    "from xr_wrap import open_mfdataset_wrap"
   ]
  },
  {
   "cell_type": "markdown",
   "metadata": {},
   "source": [
    "# function that generates list of input filenames"
   ]
  },
  {
   "cell_type": "code",
   "execution_count": 2,
   "metadata": {},
   "outputs": [],
   "source": [
    "def gen_fnames_in(institute, model, experiment, rip, MIP_table, varname, grid):\n",
    "\n",
    "    base_dir = '/glade/collections/cdg/data/CMIP6/CMIP'\n",
    "\n",
    "    dir_in = '/'.join([base_dir, institute, model, experiment, rip, MIP_table, varname, grid, 'latest'])\n",
    "    fname_pattern = '_'.join([varname, MIP_table, model, experiment, rip, grid, '*.nc'])\n",
    "    fnames_in = glob.glob(dir_in+'/'+fname_pattern)\n",
    "    fnames_in.sort()\n",
    "    return fnames_in"
   ]
  },
  {
   "cell_type": "markdown",
   "metadata": {},
   "source": [
    "# function that generates climatology"
   ]
  },
  {
   "cell_type": "code",
   "execution_count": 3,
   "metadata": {},
   "outputs": [],
   "source": [
    "def gen_clim(fnames_in, yr_lo, yr_hi):\n",
    "\n",
    "    time_name = 'time'\n",
    "\n",
    "    # data_vars = 'minimal', to avoid introducing time dimension\n",
    "    # to time-invariant fields when there are multiple files\n",
    "    ds_in = open_mfdataset_wrap(fnames_in, chunks={time_name: 12}, data_vars='minimal', combine='by_coords')\n",
    "\n",
    "    ds_clim = compute_clim_mon(ds_in, yr_lo, yr_hi)\n",
    "\n",
    "    # change some global attributes that are not appropriate after postprocessing, document input files\n",
    "    ds_clim.attrs['contact'] = 'klindsay@ucar.edu'\n",
    "    ds_clim.attrs['creation_date'] = datetime.now(timezone.utc).strftime(\"%Y-%m-%d %H:%M:%S %Z\")\n",
    "    ds_clim.attrs['input_file_list'] = ' '.join(fnames_in)\n",
    "\n",
    "    return ds_clim"
   ]
  },
  {
   "cell_type": "markdown",
   "metadata": {},
   "source": [
    "# function that generates output filename"
   ]
  },
  {
   "cell_type": "code",
   "execution_count": 4,
   "metadata": {},
   "outputs": [],
   "source": [
    "def gen_fname_out(dir_out, varname, MIP_table, model, experiment, rip, grid, yr_lo, yr_hi):\n",
    "\n",
    "    yr_fname_string = yr_lo + '-' + yr_hi\n",
    "\n",
    "    fname_out = '_'.join([varname, MIP_table, model, experiment, rip, grid, yr_fname_string, 'mon_clim.nc'])\n",
    "\n",
    "    return '/'.join([dir_out, fname_out])"
   ]
  },
  {
   "cell_type": "markdown",
   "metadata": {},
   "source": [
    "# call functions defined above with appropriately defined arguments"
   ]
  },
  {
   "cell_type": "code",
   "execution_count": 5,
   "metadata": {},
   "outputs": [
    {
     "name": "stdout",
     "output_type": "stream",
     "text": [
      "['/glade/collections/cdg/data/CMIP6/CMIP/NCAR/CESM2/historical/r7i1p1f1/Omon/fgco2/gn/latest/fgco2_Omon_CESM2_historical_r7i1p1f1_gn_185001-189912.nc', '/glade/collections/cdg/data/CMIP6/CMIP/NCAR/CESM2/historical/r7i1p1f1/Omon/fgco2/gn/latest/fgco2_Omon_CESM2_historical_r7i1p1f1_gn_190001-194912.nc', '/glade/collections/cdg/data/CMIP6/CMIP/NCAR/CESM2/historical/r7i1p1f1/Omon/fgco2/gn/latest/fgco2_Omon_CESM2_historical_r7i1p1f1_gn_195001-199912.nc', '/glade/collections/cdg/data/CMIP6/CMIP/NCAR/CESM2/historical/r7i1p1f1/Omon/fgco2/gn/latest/fgco2_Omon_CESM2_historical_r7i1p1f1_gn_200001-201412.nc']\n"
     ]
    },
    {
     "name": "stderr",
     "output_type": "stream",
     "text": [
      "/glade/work/klindsay/miniconda3/envs/CESM2_CMIP6_ocnBgchem/lib/python3.7/site-packages/xarray/conventions.py:494: SerializationWarning: variable 'fgco2' has multiple fill values {1e+20, 1e+20}, decoding all values to NaN.\n",
      "  use_cftime=use_cftime,\n",
      "/glade/work/klindsay/miniconda3/envs/CESM2_CMIP6_ocnBgchem/lib/python3.7/site-packages/xarray/conventions.py:494: SerializationWarning: variable 'fgco2' has multiple fill values {1e+20, 1e+20}, decoding all values to NaN.\n",
      "  use_cftime=use_cftime,\n"
     ]
    },
    {
     "name": "stdout",
     "output_type": "stream",
     "text": [
      "/glade/scratch/klindsay/CESM2_CMIP6_ocnBgchem_tst/fgco2_Omon_CESM2_historical_r7i1p1f1_gn_1999-2000_mon_clim.nc\n"
     ]
    },
    {
     "name": "stderr",
     "output_type": "stream",
     "text": [
      "/glade/work/klindsay/miniconda3/envs/CESM2_CMIP6_ocnBgchem/lib/python3.7/site-packages/dask/array/numpy_compat.py:40: RuntimeWarning: invalid value encountered in true_divide\n",
      "  x = np.divide(x1, x2, out)\n"
     ]
    }
   ],
   "source": [
    "institute = 'NCAR'\n",
    "model = 'CESM2'\n",
    "experiment = 'historical'\n",
    "rip = 'r7i1p1f1'\n",
    "MIP_table = 'Omon'\n",
    "grid = 'gn'\n",
    "\n",
    "yr_lo = '1999'\n",
    "yr_hi = '2000'\n",
    "\n",
    "varname = 'fgco2'\n",
    "\n",
    "dir_out = '/glade/scratch/klindsay/CESM2_CMIP6_ocnBgchem_tst'\n",
    "\n",
    "fnames_in = gen_fnames_in(institute, model, experiment, rip, MIP_table, varname, grid)\n",
    "print(fnames_in)\n",
    "\n",
    "ds_clim = gen_clim(fnames_in, yr_lo, yr_hi)\n",
    "\n",
    "fname_out = gen_fname_out(dir_out, varname, MIP_table, model, experiment, rip, grid, yr_lo, yr_hi)\n",
    "print(fname_out)\n",
    "\n",
    "ds_clim.to_netcdf(fname_out)"
   ]
  },
  {
   "cell_type": "markdown",
   "metadata": {},
   "source": [
    "# Correctness of climatology is checked with ferret script mon_clim_test_verify.jnl"
   ]
  },
  {
   "cell_type": "code",
   "execution_count": null,
   "metadata": {},
   "outputs": [],
   "source": []
  }
 ],
 "metadata": {
  "kernelspec": {
   "display_name": "Python [conda env:CESM2_CMIP6_ocnBgchem]",
   "language": "python",
   "name": "conda-env-CESM2_CMIP6_ocnBgchem-py"
  },
  "language_info": {
   "codemirror_mode": {
    "name": "ipython",
    "version": 3
   },
   "file_extension": ".py",
   "mimetype": "text/x-python",
   "name": "python",
   "nbconvert_exporter": "python",
   "pygments_lexer": "ipython3",
   "version": "3.7.3"
  }
 },
 "nbformat": 4,
 "nbformat_minor": 4
}
