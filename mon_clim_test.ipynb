{
 "cells": [
  {
   "cell_type": "code",
   "execution_count": 1,
   "metadata": {},
   "outputs": [],
   "source": [
    "import glob\n",
    "import esmlab\n",
    "import xarray as xr\n",
    "from utils import copy_fill_settings_ds, time_set_mid"
   ]
  },
  {
   "cell_type": "code",
   "execution_count": 2,
   "metadata": {},
   "outputs": [
    {
     "name": "stdout",
     "output_type": "stream",
     "text": [
      "['/glade/collections/cdg/data/CMIP6/CMIP/NCAR/CESM2/historical/r7i1p1f1/Omon/fgco2/gn/latest/fgco2_Omon_CESM2_historical_r7i1p1f1_gn_185001-189912.nc', '/glade/collections/cdg/data/CMIP6/CMIP/NCAR/CESM2/historical/r7i1p1f1/Omon/fgco2/gn/latest/fgco2_Omon_CESM2_historical_r7i1p1f1_gn_190001-194912.nc', '/glade/collections/cdg/data/CMIP6/CMIP/NCAR/CESM2/historical/r7i1p1f1/Omon/fgco2/gn/latest/fgco2_Omon_CESM2_historical_r7i1p1f1_gn_195001-199912.nc', '/glade/collections/cdg/data/CMIP6/CMIP/NCAR/CESM2/historical/r7i1p1f1/Omon/fgco2/gn/latest/fgco2_Omon_CESM2_historical_r7i1p1f1_gn_200001-201412.nc']\n"
     ]
    }
   ],
   "source": [
    "base_dir = '/glade/collections/cdg/data/CMIP6/CMIP'\n",
    "institute = 'NCAR'\n",
    "model = 'CESM2'\n",
    "experiment = 'historical'\n",
    "rip = 'r7i1p1f1'\n",
    "MIP_table = 'Omon'\n",
    "varname = 'fgco2'\n",
    "grid = 'gn'\n",
    "\n",
    "dir_in = '/'.join([base_dir, institute, model, experiment, rip, MIP_table, varname, grid, 'latest'])\n",
    "fname_pattern = '_'.join([varname, MIP_table, model, experiment, rip, grid, '*.nc'])\n",
    "fnames = glob.glob(dir_in+'/'+fname_pattern)\n",
    "fnames.sort()\n",
    "print(fnames)"
   ]
  },
  {
   "cell_type": "code",
   "execution_count": 3,
   "metadata": {},
   "outputs": [
    {
     "name": "stdout",
     "output_type": "stream",
     "text": [
      "fgco2_Omon_CESM2_historical_r7i1p1f1_gn_1999-2000_mon_clim.nc\n"
     ]
    }
   ],
   "source": [
    "dir_out = '/glade/scratch/klindsay/CESM2_CMIP6_ocnBgchem'\n",
    "yr_lo = '1999'\n",
    "yr_hi = '2000'\n",
    "\n",
    "yr_fname_string = yr_lo + '-' + yr_hi\n",
    "\n",
    "fname_out = '_'.join([varname, MIP_table, model, experiment, rip, grid, yr_fname_string, 'mon_clim.nc'])\n",
    "print(fname_out)"
   ]
  },
  {
   "cell_type": "code",
   "execution_count": 4,
   "metadata": {},
   "outputs": [
    {
     "name": "stderr",
     "output_type": "stream",
     "text": [
      "/glade/work/klindsay/miniconda3/envs/CESM2_CMIP6_ocnBgchem/lib/python3.7/site-packages/xarray/conventions.py:494: SerializationWarning: variable 'fgco2' has multiple fill values {1e+20, 1e+20}, decoding all values to NaN.\n",
      "  use_cftime=use_cftime,\n"
     ]
    }
   ],
   "source": [
    "time_name = 'time'\n",
    "\n",
    "# save time encoding from first file, to restore it in the multi-file case\n",
    "with xr.open_dataset(fnames[0]) as ds_in:\n",
    "    time_encoding = ds_in[time_name].encoding"
   ]
  },
  {
   "cell_type": "code",
   "execution_count": 5,
   "metadata": {},
   "outputs": [
    {
     "name": "stderr",
     "output_type": "stream",
     "text": [
      "/glade/work/klindsay/miniconda3/envs/CESM2_CMIP6_ocnBgchem/lib/python3.7/site-packages/dask/array/numpy_compat.py:40: RuntimeWarning: invalid value encountered in true_divide\n",
      "  x = np.divide(x1, x2, out)\n"
     ]
    }
   ],
   "source": [
    "# data_vars = 'minimal', to avoid introducing time dimension\n",
    "# to time-invariant fields when there are multiple files\n",
    "ds_in = xr.open_mfdataset(fnames, data_vars='minimal', combine='by_coords')\n",
    "\n",
    "# restore time encoding, needed in multi-file case\n",
    "ds_in[time_name].encoding = time_encoding\n",
    "\n",
    "# missing_value attribute CESM2 CMIP6 output is wrong type\n",
    "ds_in[varname].encoding['missing_value'] = ds_in[varname].encoding['_FillValue']\n",
    "\n",
    "# reset time values to mid-interval, to ensure climatology works correctly\n",
    "time_set_mid(ds_in, time_name)\n",
    "\n",
    "yyyymmdd_lo = yr_lo + '-01-01'\n",
    "yyyymmdd_hi = yr_hi + '-12-31'\n",
    "\n",
    "ds_clim = esmlab.climatology(ds_in.sel(time=slice(yyyymmdd_lo, yyyymmdd_hi)), freq='mon')\n",
    "\n",
    "# set essential time encoding values\n",
    "# as esmlab.climatology only sets dtype and _FillValue\n",
    "ds_clim[time_name].encoding['units'] = time_encoding['units']\n",
    "ds_clim[time_name].encoding['calendar'] = time_encoding['calendar']\n",
    "\n",
    "# get rid of NaN _FillValue's\n",
    "copy_fill_settings_ds(ds_in, ds_clim)\n",
    "\n",
    "# document input files\n",
    "ds_clim.attrs['input_file_list'] = ' '.join(fnames)\n",
    "\n",
    "ds_clim.to_netcdf('/'.join([dir_out, fname_out]))"
   ]
  },
  {
   "cell_type": "code",
   "execution_count": null,
   "metadata": {},
   "outputs": [],
   "source": []
  }
 ],
 "metadata": {
  "kernelspec": {
   "display_name": "Python [conda env:CESM2_CMIP6_ocnBgchem]",
   "language": "python",
   "name": "conda-env-CESM2_CMIP6_ocnBgchem-py"
  },
  "language_info": {
   "codemirror_mode": {
    "name": "ipython",
    "version": 3
   },
   "file_extension": ".py",
   "mimetype": "text/x-python",
   "name": "python",
   "nbconvert_exporter": "python",
   "pygments_lexer": "ipython3",
   "version": "3.7.3"
  }
 },
 "nbformat": 4,
 "nbformat_minor": 4
}
